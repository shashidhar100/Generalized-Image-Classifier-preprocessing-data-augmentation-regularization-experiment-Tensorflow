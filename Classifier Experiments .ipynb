{
 "cells": [
  {
   "cell_type": "code",
   "execution_count": 9,
   "metadata": {},
   "outputs": [],
   "source": [
    "import tensorflow as tf\n",
    "import matplotlib.pyplot as plt\n",
    "import os\n",
    "import numpy as np\n",
    "import warnings\n",
    "import time\n",
    "import tensorflow_datasets as tfds\n",
    "import models\n",
    "import metrics\n",
    "import losses\n",
    "import utils\n",
    "import Data_pipline\n",
    "import pandas as pd"
   ]
  },
  {
   "cell_type": "code",
   "execution_count": 10,
   "metadata": {},
   "outputs": [],
   "source": [
    "utils.set_seed_globally()"
   ]
  },
  {
   "cell_type": "code",
   "execution_count": 11,
   "metadata": {},
   "outputs": [],
   "source": [
    "def random_rotate(img):\n",
    "    img = img.numpy()\n",
    "    x = tf.keras.preprocessing.image.random_rotation(img,90,channel_axis=2)\n",
    "    return tf.convert_to_tensor(x)\n",
    "\n",
    "def random_shift(img):\n",
    "    img = img.numpy()\n",
    "    x = tf.keras.preprocessing.image.random_shift(img,0.3,0.3,channel_axis=2)\n",
    "    return tf.convert_to_tensor(x)\n",
    "\n",
    "def random_zoom(img):\n",
    "    img = img.numpy()\n",
    "    x = tf.keras.preprocessing.image.random_zoom(img,[0.3,0.8],channel_axis=2)\n",
    "    return tf.convert_to_tensor(x)"
   ]
  },
  {
   "cell_type": "code",
   "execution_count": 14,
   "metadata": {},
   "outputs": [],
   "source": [
    "class training:\n",
    "    def __init__(self,model,loss_function,train_data,train_dataset_size,optimizer,save_dir = os.path.join(\"..\"),\n",
    "                 epochs=100,batch_size=32,test_data=None,test_dataset_size=None,metric_list=[\"acc\"],\n",
    "                 augmentation=False,augmentation_steps=None,augmentation_list=[],data_when_no_agumentation_original=True,\n",
    "                 shffule=True,shffule_steps=1,shffule_buffer_size=1000):\n",
    "        self.model = model\n",
    "        self.loss_function = \"categorical_crossentropy\"\n",
    "        self.metric_list = metric_list\n",
    "        self.train_data = train_data\n",
    "        self.optimizer = optimizer\n",
    "        self.train_dataset_size = train_dataset_size\n",
    "        self.test_dataset_size = test_dataset_size\n",
    "        self.epochs = epochs\n",
    "        self.batch_size = batch_size\n",
    "        self.test_data = test_data\n",
    "        self.augmentation = augmentation\n",
    "        self.augmentation_steps = augmentation_steps\n",
    "        self.augmentation_list = augmentation_list\n",
    "        self.data_when_no_agumentation_original = data_when_no_agumentation_original \n",
    "        self.shffule = shffule\n",
    "        self.shffule_buffer_size = shffule_buffer_size\n",
    "        self.shffule_steps = shffule_steps\n",
    "        self.metric_mapping_dic = {\"acc\":metrics.supervised_acc}\n",
    "        self.losses_mapping_dic = {\"categorical_crossentropy\":losses.categorical_crossentropy}\n",
    "        self.shffule_buffer_size = shffule_buffer_size\n",
    "        self.save_dir = save_dir\n",
    "        self.trained_model = self.train()\n",
    "        \n",
    "        \n",
    "    def metrics_calc_logging(self,y_true,y_pred,epoch,batch,loss,train=True,epoch_end=False):\n",
    "        \n",
    "        if train:\n",
    "            \n",
    "            if epoch_end:\n",
    "                self.metric_log_train[\"loss\"].append(np.mean(self.metric_batch_log_train[\"loss\"]))\n",
    "                self.metric_log_train[\"epoch\"].append(epoch)\n",
    "                print(\"\\n========> loss : %.4f\"%self.metric_log_train[\"loss\"][epoch-1],end=\" \")\n",
    "                self.metric_batch_log_train[\"loss\"] = []\n",
    "                \n",
    "                for i in range(len(self.metric_list)):\n",
    "                    self.metric_log_train[self.metric_list[i]].append(np.mean(self.metric_batch_log_train[self.metric_list[i]]))\n",
    "                    self.metric_batch_log_train[self.metric_list[i]]=[]\n",
    "                    print(self.metric_list[i],\": \",\"%.4f\"%(self.metric_log_train[self.metric_list[i]][epoch-1]),end=\" \")\n",
    "                print(\"\\n\")\n",
    "                return \n",
    "            \n",
    "            if epoch==1 and batch==1:\n",
    "                \n",
    "                self.metric_batch_log_train = {\"loss\":[]}\n",
    "                self.metric_log_train = {\"epoch\":[],\"loss\":[]}\n",
    "                for i in range(len(self.metric_list)):\n",
    "                    self.metric_batch_log_train[self.metric_list[i]]=[]\n",
    "                    self.metric_log_train[self.metric_list[i]] = []\n",
    "            \n",
    "            loss = loss.numpy()        \n",
    "            self.metric_batch_log_train[\"loss\"].append(loss)\n",
    "            for i in range(len(self.metric_list)):\n",
    "                self.metric_batch_log_train[self.metric_list[i]].append(self.metric_mapping_dic[self.metric_list[i]](y_true,y_pred))\n",
    "            \n",
    "                \n",
    "        else:\n",
    "            if epoch_end:\n",
    "                self.metric_log_test[\"loss\"].append(np.mean(self.metric_batch_log_test[\"loss\"]))\n",
    "                self.metric_log_test[\"epoch\"].append(epoch)\n",
    "                print(\"\\n========> loss : %.4f\"%self.metric_log_test[\"loss\"][epoch-1],end=\" \")\n",
    "                self.metric_batch_log_test[\"loss\"] = []\n",
    "                for i in range(len(self.metric_list)):\n",
    "                    self.metric_log_test[self.metric_list[i]].append(np.mean(self.metric_batch_log_test[self.metric_list[i]]))\n",
    "                    self.metric_batch_log_test[self.metric_list[i]]=[]\n",
    "                    print(self.metric_list[i],\": \",\"%.4f\"%(self.metric_log_test[self.metric_list[i]][epoch-1]),end=\" \")\n",
    "                print(\"\\n\")\n",
    "                return \n",
    "            \n",
    "            if epoch==1 and batch==1:\n",
    "                \n",
    "                self.metric_batch_log_test = {\"loss\":[]}\n",
    "                self.metric_log_test = {\"epoch\":[],\"loss\":[]}\n",
    "                for i in range(len(self.metric_list)):\n",
    "                    self.metric_batch_log_test[self.metric_list[i]]=[]\n",
    "                    self.metric_log_test[self.metric_list[i]] = []\n",
    "            \n",
    "            loss = loss.numpy()        \n",
    "            self.metric_batch_log_test[\"loss\"].append(loss)\n",
    "            for i in range(len(self.metric_list)):\n",
    "                self.metric_batch_log_test[self.metric_list[i]].append(self.metric_mapping_dic[self.metric_list[i]](y_true,y_pred))\n",
    "            \n",
    "            \n",
    "            \n",
    "    \n",
    "    @tf.function    \n",
    "    def forward_backward_prop(self,img,label,training=True):\n",
    "        with tf.GradientTape() as tape:\n",
    "            y_pred = self.model(img,training=training)\n",
    "            loss_value = self.losses_mapping_dic[self.loss_function](label,y_pred)\n",
    "        if training:\n",
    "            grads = tape.gradient(loss_value, self.model.trainable_weights)\n",
    "            self.optimizer.apply_gradients(zip(grads, self.model.trainable_weights))\n",
    "        return y_pred,loss_value\n",
    "    \n",
    "    def data_agumentation_func(self,idx,y):\n",
    "        if idx%self.aug_len == 0:\n",
    "            lab = self.labels_list[int(tf.math.floor(idx/self.aug_len))]\n",
    "            return y,lab\n",
    "        else:\n",
    "            y = self.augmentation_list[idx%self.aug_len-1](y)\n",
    "            lab = self.labels_list[int(tf.math.floor(idx/self.aug_len))]\n",
    "            return y,lab \n",
    "    \n",
    "    def output_value(self,idx,y):\n",
    "        if self.labels_required_for_output and not(self.images_required_for_output):\n",
    "            return y\n",
    "        elif self.images_required_for_output and not(self.labels_required_for_output):\n",
    "            return y[0],y[0]\n",
    "        elif self.images_required_for_output and self.labels_required_for_output:\n",
    "            return y[0],y[0],y[1]\n",
    "        elif not(self.labels_required_for_output) and not(self.images_required_for_output):\n",
    "            return y[0]\n",
    "        return y\n",
    "        \n",
    "    \n",
    "    def train(self):\n",
    "        \n",
    "        train_data = self.train_data\n",
    "        if self.test_data:\n",
    "            test_data = self.test_data\n",
    "        if self.augmentation:\n",
    "            if len(self.augmentation_list)==0:\n",
    "                raise ValueError(\"Data augmentation list is empty so no data augmentation is applied\")\n",
    "            self.aug_len = len(self.augmentation_list)+1\n",
    "            sample_data = list(train_data.take(1).as_numpy_iterator())\n",
    "            self.len_sample = len(sample_data[0])\n",
    "            if self.len_sample==2 and len(sample_data[0][1].shape)==0:\n",
    "                self.labels_required_for_output = True\n",
    "                self.images_required_for_output = False\n",
    "            elif self.len_sample==2 and len(sample_data[0][1].shape)==3:\n",
    "                self.labels_required_for_output = False\n",
    "                self.images_required_for_output = True\n",
    "            elif self.len_sample==3 and len(sample_data[0][2].shape)==0 and len(sample_data[0][1].shape)==3:\n",
    "                self.labels_required_for_output = True\n",
    "                self.images_required_for_output = True\n",
    "            self.train_dataset_size_aug = int(self.train_dataset_size*self.aug_len)    \n",
    "            self.labels_list = np.array(list(train_data.take(-1).as_numpy_iterator()),dtype=object)[:,1]\n",
    "            labels_removed_data = train_data.enumerate().map(lambda idx,x:x[0],num_parallel_calls=tf.data.experimental.AUTOTUNE).prefetch(tf.data.experimental.AUTOTUNE)\n",
    "            duplicates_created_data = labels_removed_data.interleave(lambda x: tf.data.Dataset.from_tensors(x).repeat(self.aug_len),block_length=self.aug_len)\n",
    "        if not self.augmentation:\n",
    "            total_Train_batches = int(np.ceil(self.train_dataset_size/self.batch_size))\n",
    "            \n",
    "        \n",
    "        for epoch in range(1,self.epochs+1):\n",
    "            print(\"\\nEpoch {} / {}\".format(epoch,self.epochs))\n",
    "            \n",
    "            if self.augmentation:\n",
    "                if epoch%self.augmentation_steps==0 or epoch==1:\n",
    "                    print(\"Agumented the  Dataset\")\n",
    "                    augmented_data = duplicates_created_data.enumerate().map(lambda idx,x : tf.py_function(func = self.data_agumentation_func,inp=[idx,x],Tout=(tf.float32,tf.int32)),num_parallel_calls=tf.data.experimental.AUTOTUNE).prefetch(tf.data.experimental.AUTOTUNE)\n",
    "                    augmented_data = augmented_data.enumerate().map(self.output_value,num_parallel_calls=tf.data.experimental.AUTOTUNE).prefetch(tf.data.experimental.AUTOTUNE)\n",
    "                    train_data = augmented_data\n",
    "                    total_Train_batches = int(np.ceil(self.train_dataset_size_aug/self.batch_size))\n",
    "                else:\n",
    "                    if self.data_when_no_agumentation_original: \n",
    "                        train_data = self.train_data\n",
    "                        total_Train_batches = int(np.ceil(self.train_dataset_size/self.batch_size))\n",
    "                    else:\n",
    "                        train_data = augmented_data\n",
    "                        total_Train_batches = int(np.ceil(self.train_dataset_size_aug/self.batch_size))\n",
    "            else:\n",
    "                train_data = self.train_data\n",
    "                \n",
    "            if self.shffule:\n",
    "                if epoch%self.shffule_steps==0:\n",
    "                    train_data = train_data.shuffle(self.shffule_buffer_size)\n",
    "            train_data = train_data.batch(self.batch_size)\n",
    "            train_data = train_data.prefetch(tf.data.experimental.AUTOTUNE)\n",
    "            for batch,(img,label) in train_data.enumerate(1):\n",
    "                print(\"====>Training Batch {} / {}\".format(batch,total_Train_batches),end=\"\\r\")\n",
    "                label = tf.one_hot(label,depth=10)\n",
    "                y_pred,loss_value = self.forward_backward_prop(img,label)\n",
    "                self.metrics_calc_logging(label,y_pred,epoch,batch,loss_value,train=True)\n",
    "            self.metrics_calc_logging(None,None,epoch,batch,None,epoch_end=True,train=True)\n",
    "            \n",
    "            if self.test_data:\n",
    "                total_test_batches = int(np.ceil(self.test_dataset_size/self.batch_size))\n",
    "                test_data = self.test_data\n",
    "                test_data = test_data.batch(self.batch_size)\n",
    "                for batch,(img,label) in test_data.enumerate(1):\n",
    "                    print(\"====>Test Batch {} / {}\".format(batch,total_test_batches),end=\"\\r\")\n",
    "                    label = tf.one_hot(label,depth=10)\n",
    "                    y_pred,loss_value = self.forward_backward_prop(img,label,training=False)\n",
    "                    self.metrics_calc_logging(label,y_pred,epoch,batch,loss_value,train=False)\n",
    "                self.metrics_calc_logging(None,None,epoch,batch,None,epoch_end=True,train=False)\n",
    "                \n",
    "        \n",
    "        df_train = pd.DataFrame.from_dict(self.metric_log_train)\n",
    "        df_train.to_csv(os.path.join(self.save_dir,\"train_log.csv\"),index=False)\n",
    "        if self.test_data:\n",
    "            df_test = pd.DataFrame.from_dict(self.metric_log_test)\n",
    "            df_test.to_csv(os.path.join(self.save_dir,\"test_log.csv\"),index=False)\n",
    "        print(\"Saving the model,train log and test log in : \",self.save_dir,\"============>\")\n",
    "        \n",
    "        self.model.save(os.path.join(self.save_dir,\"classifer.h5\"))\n",
    "        return self.model      "
   ]
  },
  {
   "cell_type": "code",
   "execution_count": 15,
   "metadata": {},
   "outputs": [],
   "source": [
    "class experiments:\n",
    "    def __init__(self,dataset_path=None,dataset=None,image_size=(32,32),Data_preprocessing=\"0\",Augmentation=\"0\",Shuffling=\"0\",Regularization=\"0\",Models=\"0\",\n",
    "                 classifier=True,augmentation_list = [],augmentation_steps=10,split=True,split_ratio=[0.8,0.2],batch_size=32,epochs=200,shuffling_steps=1,\n",
    "                 save_train_test_data = False,dropout=0.5):\n",
    "        self.dataset_path = dataset_path\n",
    "        self.dataset = dataset\n",
    "        self.image_size = image_size\n",
    "        self.Data_preprocessing = Data_preprocessing\n",
    "        self.Augmentation = Augmentation\n",
    "        self.Shuffling = Shuffling\n",
    "        self.Regularization = Regularization\n",
    "        self.Models = Models\n",
    "        self.classifier = classifier\n",
    "        self.augmentation_list = augmentation_list\n",
    "        self.augmentation_steps = augmentation_steps\n",
    "        self.batch_size = batch_size\n",
    "        self.epochs = epochs\n",
    "        self.shuffling_steps = shuffling_steps\n",
    "        self.split = split\n",
    "        self.split_ratio = split_ratio\n",
    "        self.dropout = dropout\n",
    "        self.dataset_list = [\"cifar10\",\"fashion_mnist\",\"mnist\"]\n",
    "        self.save_train_test_data  = save_train_test_data \n",
    "        if self.dataset:\n",
    "            self.image_size = (None,None)\n",
    "        self.save_dir = self.decide_saving_dir()\n",
    "        \n",
    "        \"\"\" \n",
    "        0: No Normalization,\n",
    "        1: Normalization [0,1], \n",
    "        2: Per Pixel Standardization \n",
    "        setting the dataset.image_preprocessing parameter\n",
    "        \"\"\"\n",
    "        self.data_preprocessing_dic = {\"0\":\"0\",\"1\":\"1\",\"2\":\"2\"}\n",
    "        \n",
    "        \"\"\"\n",
    "        0: No augmentation,\n",
    "        1: augmentation before training, \n",
    "        2: augmentation after self.augmentation_steps epochs and using original data when epoch % self.augmentation_steps!=0\n",
    "        3: augmentation after self.augmentation_steps epochs and using previously augmented data when epoch % self.augmentation_steps!=0\n",
    "        setting the (dataset.augmentation,training.augmentation,training.data_when_no_agumentation_original) parameter\n",
    "        \"\"\"\n",
    "        self.augmentation_dic = {\"0\":(False,False,False),\"1\":(True,False,False),\"2\":(False,True,True),\"3\":(False,True,False)}\n",
    "        \n",
    "        \"\"\"\n",
    "        0: No shuffling,\n",
    "        1: shuffling after self.shuffling_steps epochs full dataset\n",
    "        2: shuffling after self.shuffling_steps epochs among the batches\n",
    "        setting the (training.shuffle,training.shffule_buffer_size)\n",
    "        \"\"\"\n",
    "        self.train_dataset_size = None\n",
    "        self.shuffling_dic = {\"0\":(False,None),\"1\":[True,self.train_dataset_size],\"2\":[True,self.batch_size]}\n",
    "        \n",
    "        \"\"\"\n",
    "        0: No regularization (neither batchnormalization nor dropout)\n",
    "        1: Only batchnormalization\n",
    "        2: Only dropout at convolutional layers with 0.5 dropout value\n",
    "        3: Only dropout at dense layers with 0.5 dropout value\n",
    "        4: Only dropout at both convolutional and denses layers with 0.5 dropout value\n",
    "        5: Batch normalization + best of (2,3,4) droputs with 0.5 dropout value\n",
    "        setting the parameters of the (models.if_batch_normalization,models.if_dropout_dense,models.if_dropout_conv)\n",
    "        \"\"\"\n",
    "        self.regularization_dic = {\"0\":(False,False,False),\"1\":(True,False,False),\"2\":(False,False,True),\n",
    "                                   \"3\":(False,True,False),\"4\":(False,True,True),5:(True,True,True)}\n",
    "        \n",
    "        \"\"\"\n",
    "        0: VGG\n",
    "        Choosing the models from models.py file\n",
    "        \"\"\"\n",
    "        self.models_classifier_dic = {\"0\":{\"cifar10\":models.Classifier_VGG_CIFAR10,\"fashion_mnist\":models.Classifier_VGG_MNIST,\"mnist\":models.Classifier_VGG_MNIST}}\n",
    "                                   \n",
    "    def decide_saving_dir(self):\n",
    "        results_folder = os.path.join(\"..\",\"results\")\n",
    "        if not os.path.exists(results_folder):\n",
    "            os.mkdir(results_folder)\n",
    "        if not self.dataset:\n",
    "            dataset_name = str(input(\"===============>Enter the Name of the dataset : \"))\n",
    "        else:\n",
    "            if self.dataset not in self.dataset_list:\n",
    "                raise ValueError(\"Dataset \",self.dataset,\" not present in \",self.dataset_list,\" please choose among these\")\n",
    "            \n",
    "            dataset_name = self.dataset\n",
    "        \n",
    "        result_dataset_folder = os.path.join(results_folder,dataset_name)\n",
    "        \n",
    "        if not os.path.exists(result_dataset_folder):\n",
    "            os.mkdir(result_dataset_folder)\n",
    "        additional_name = str(input(\"==============>enter any additional name if wanted else enter No : \"))\n",
    "        if additional_name == \"No\":\n",
    "            \n",
    "            saving_folder_name = os.path.join(result_dataset_folder,self.Data_preprocessing+\"_\"+self.Augmentation+\"_\"\n",
    "                                          +self.Shuffling+\"_\"+self.Regularization+\"_\"+self.Models)\n",
    "        else:\n",
    "            saving_folder_name = os.path.join(result_dataset_folder,self.Data_preprocessing+\"_\"+self.Augmentation+\"_\"\n",
    "                                          +self.Shuffling+\"_\"+self.Regularization+\"_\"+self.Models+\"_\"+additional_name)\n",
    "            \n",
    "        \n",
    "        \n",
    "        \n",
    "        if not os.path.exists(saving_folder_name):\n",
    "            os.mkdir(saving_folder_name)\n",
    "            \n",
    "        return saving_folder_name\n",
    "    \n",
    "    def __call__(self):\n",
    "        if self.classifier:\n",
    "            self.split = True\n",
    "        \n",
    "            dataset = Data_pipline.Data_Pipeline(\n",
    "                                    dataset_path = self.dataset_path,\n",
    "                                    dataset = self.dataset,\n",
    "                                    image_size = self.image_size,\n",
    "                                    image_preprocessing = self.Data_preprocessing,\n",
    "                                    split = self.split,\n",
    "                                    split_ratio = self.split_ratio,\n",
    "                                    labels_required_for_output = self.classifier,\n",
    "                                    images_required_for_output = False,\n",
    "                                    save_data = self.save_train_test_data ,\n",
    "                                    data_agumentation = self.augmentation_dic[self.Augmentation][0],\n",
    "                                    data_agumentation_list = self.augmentation_list\n",
    "                                    )\n",
    "            \n",
    "            model = self.models_classifier_dic[self.Models][self.dataset](\n",
    "                        if_batch_normalization = self.regularization_dic[self.Regularization][0],\n",
    "                        if_dropout_dense = self.regularization_dic[self.Regularization][1],\n",
    "                        if_dropout_conv = self.regularization_dic[self.Regularization][2],\n",
    "                        dropout_value = self.dropout\n",
    "                \n",
    "            )\n",
    "            print(model.summary())\n",
    "\n",
    "            self.train_dataset_size = dataset.train_dataset_size\n",
    "            self.shuffling_dic[\"1\"][1] = self.train_dataset_size\n",
    "            self.shuffling_dic[\"2\"][1] = self.batch_size\n",
    "            model_trained = training(\n",
    "                                     model = model,\n",
    "                                     loss_function = \"categorical_crossentropy\",\n",
    "                                     train_data = dataset.train_data,\n",
    "                                     train_dataset_size = dataset.train_dataset_size,\n",
    "                                     optimizer = tf.keras.optimizers.Adam(),\n",
    "                                     save_dir = self.save_dir,\n",
    "                                     epochs = self.epochs,\n",
    "                                     batch_size = self.batch_size,\n",
    "                                     test_data = dataset.test_data,\n",
    "                                     metric_list = [\"acc\"],\n",
    "                                     test_dataset_size = dataset.test_dataset_size,\n",
    "                                     augmentation = self.augmentation_dic[self.Augmentation][1] ,\n",
    "                                     augmentation_steps = self.augmentation_steps,\n",
    "                                     augmentation_list = self.augmentation_list,\n",
    "                                     shffule = self.shuffling_dic[self.Shuffling][0],\n",
    "                                     shffule_steps = self.shuffling_steps,\n",
    "                                     shffule_buffer_size = self.shuffling_dic[self.Shuffling][1],\n",
    "                                     data_when_no_agumentation_original = self.augmentation_dic[self.Augmentation][2]\n",
    "                                    )\n",
    "        return model_trained      "
   ]
  },
  {
   "cell_type": "code",
   "execution_count": 16,
   "metadata": {
    "scrolled": false
   },
   "outputs": [
    {
     "name": "stdout",
     "output_type": "stream",
     "text": [
      "==============>enter any additional name if wanted else enter No : No\n",
      "Total number of images in Training dataset :  60000\n",
      "Total number of images in Test dataset :  10000\n",
      "Images of both train and test are normalized in the range [0,1] \n",
      "Belonging to the  10 Classes\n",
      "Lables are present at the output in the Train Dataset\\Test Dataset : (image,label)\n",
      "Time taken to load the data :  2.384054660797119  Seconds ====================>\n"
     ]
    },
    {
     "data": {
      "image/png": "[encoded data removed]",
      "text/plain": [
       "<Figure size 432x288 with 1 Axes>"
      ]
     },
     "metadata": {
      "needs_background": "light"
     },
     "output_type": "display_data"
    },
    {
     "name": "stdout",
     "output_type": "stream",
     "text": [
      "------- 4\n"
     ]
    },
    {
     "data": {
      "image/png": "[encoded data removed]",
      "text/plain": [
       "<Figure size 432x288 with 1 Axes>"
      ]
     },
     "metadata": {
      "needs_background": "light"
     },
     "output_type": "display_data"
    },
    {
     "name": "stdout",
     "output_type": "stream",
     "text": [
      "------- 1\n"
     ]
    },
    {
     "data": {
      "image/png": "[encoded data removed]",
      "text/plain": [
       "<Figure size 432x288 with 1 Axes>"
      ]
     },
     "metadata": {
      "needs_background": "light"
     },
     "output_type": "display_data"
    },
    {
     "name": "stdout",
     "output_type": "stream",
     "text": [
      "------- 0\n"
     ]
    },
    {
     "data": {
      "image/png": "[encoded data removed]",
      "text/plain": [
       "<Figure size 432x288 with 1 Axes>"
      ]
     },
     "metadata": {
      "needs_background": "light"
     },
     "output_type": "display_data"
    },
    {
     "name": "stdout",
     "output_type": "stream",
     "text": [
      "------- 7\n"
     ]
    },
    {
     "data": {
      "image/png": "[encoded data removed]",
      "text/plain": [
       "<Figure size 432x288 with 1 Axes>"
      ]
     },
     "metadata": {
      "needs_background": "light"
     },
     "output_type": "display_data"
    },
    {
     "name": "stdout",
     "output_type": "stream",
     "text": [
      "------- 8\n"
     ]
    },
    {
     "data": {
      "image/png": "[encoded data removed]",
      "text/plain": [
       "<Figure size 432x288 with 1 Axes>"
      ]
     },
     "metadata": {
      "needs_background": "light"
     },
     "output_type": "display_data"
    },
    {
     "name": "stdout",
     "output_type": "stream",
     "text": [
      "------- 1\n"
     ]
    },
    {
     "data": {
      "image/png": "[encoded data removed]",
      "text/plain": [
       "<Figure size 432x288 with 1 Axes>"
      ]
     },
     "metadata": {
      "needs_background": "light"
     },
     "output_type": "display_data"
    },
    {
     "name": "stdout",
     "output_type": "stream",
     "text": [
      "------- 2\n"
     ]
    },
    {
     "data": {
      "image/png": "[encoded data removed]",
      "text/plain": [
       "<Figure size 432x288 with 1 Axes>"
      ]
     },
     "metadata": {
      "needs_background": "light"
     },
     "output_type": "display_data"
    },
    {
     "name": "stdout",
     "output_type": "stream",
     "text": [
      "------- 7\n"
     ]
    },
    {
     "data": {
      "image/png": "[encoded data removed]",
      "text/plain": [
       "<Figure size 432x288 with 1 Axes>"
      ]
     },
     "metadata": {
      "needs_background": "light"
     },
     "output_type": "display_data"
    },
    {
     "name": "stdout",
     "output_type": "stream",
     "text": [
      "------- 1\n"
     ]
    },
    {
     "data": {
      "image/png": "[encoded data removed]",
      "text/plain": [
       "<Figure size 432x288 with 1 Axes>"
      ]
     },
     "metadata": {
      "needs_background": "light"
     },
     "output_type": "display_data"
    },
    {
     "name": "stdout",
     "output_type": "stream",
     "text": [
      "------- 6\n"
     ]
    },
    {
     "data": {
      "image/png": "[encoded data removed]",
      "text/plain": [
       "<Figure size 432x288 with 1 Axes>"
      ]
     },
     "metadata": {
      "needs_background": "light"
     },
     "output_type": "display_data"
    },
    {
     "name": "stdout",
     "output_type": "stream",
     "text": [
      "------- 6\n"
     ]
    },
    {
     "data": {
      "image/png": "[encoded data removed]",
      "text/plain": [
       "<Figure size 432x288 with 1 Axes>"
      ]
     },
     "metadata": {
      "needs_background": "light"
     },
     "output_type": "display_data"
    },
    {
     "name": "stdout",
     "output_type": "stream",
     "text": [
      "------- 4\n"
     ]
    },
    {
     "data": {
      "image/png": "[encoded data removed]",
      "text/plain": [
       "<Figure size 432x288 with 1 Axes>"
      ]
     },
     "metadata": {
      "needs_background": "light"
     },
     "output_type": "display_data"
    },
    {
     "name": "stdout",
     "output_type": "stream",
     "text": [
      "------- 7\n"
     ]
    },
    {
     "data": {
      "image/png": "[encoded data removed]",
      "text/plain": [
       "<Figure size 432x288 with 1 Axes>"
      ]
     },
     "metadata": {
      "needs_background": "light"
     },
     "output_type": "display_data"
    },
    {
     "name": "stdout",
     "output_type": "stream",
     "text": [
      "------- 7\n"
     ]
    },
    {
     "data": {
      "image/png": "[encoded data removed]",
      "text/plain": [
       "<Figure size 432x288 with 1 Axes>"
      ]
     },
     "metadata": {
      "needs_background": "light"
     },
     "output_type": "display_data"
    },
    {
     "name": "stdout",
     "output_type": "stream",
     "text": [
      "------- 3\n"
     ]
    },
    {
     "data": {
      "image/png": "[encoded data removed]",
      "text/plain": [
       "<Figure size 432x288 with 1 Axes>"
      ]
     },
     "metadata": {
      "needs_background": "light"
     },
     "output_type": "display_data"
    },
    {
     "name": "stdout",
     "output_type": "stream",
     "text": [
      "------- 3\n"
     ]
    },
    {
     "data": {
      "image/png": "[encoded data removed]",
      "text/plain": [
       "<Figure size 432x288 with 1 Axes>"
      ]
     },
     "metadata": {
      "needs_background": "light"
     },
     "output_type": "display_data"
    },
    {
     "name": "stdout",
     "output_type": "stream",
     "text": [
      "------- 7\n"
     ]
    },
    {
     "data": {
      "image/png": "[encoded data removed]",
      "text/plain": [
       "<Figure size 432x288 with 1 Axes>"
      ]
     },
     "metadata": {
      "needs_background": "light"
     },
     "output_type": "display_data"
    },
    {
     "name": "stdout",
     "output_type": "stream",
     "text": [
      "------- 9\n"
     ]
    },
    {
     "data": {
      "image/png": "[encoded data removed]",
      "text/plain": [
       "<Figure size 432x288 with 1 Axes>"
      ]
     },
     "metadata": {
      "needs_background": "light"
     },
     "output_type": "display_data"
    },
    {
     "name": "stdout",
     "output_type": "stream",
     "text": [
      "------- 9\n"
     ]
    },
    {
     "data": {
      "image/png": "[encoded data removed]",
      "text/plain": [
       "<Figure size 432x288 with 1 Axes>"
      ]
     },
     "metadata": {
      "needs_background": "light"
     },
     "output_type": "display_data"
    },
    {
     "name": "stdout",
     "output_type": "stream",
     "text": [
      "------- 1\n",
      "Model: \"functional_3\"\n",
      "_________________________________________________________________\n",
      "Layer (type)                 Output Shape              Param #   \n",
      "=================================================================\n",
      "input_2 (InputLayer)         [(None, 28, 28, 1)]       0         \n",
      "_________________________________________________________________\n",
      "conv2d_6 (Conv2D)            (None, 28, 28, 32)        320       \n",
      "_________________________________________________________________\n",
      "activation_6 (Activation)    (None, 28, 28, 32)        0         \n",
      "_________________________________________________________________\n",
      "conv2d_7 (Conv2D)            (None, 28, 28, 32)        9248      \n",
      "_________________________________________________________________\n",
      "activation_7 (Activation)    (None, 28, 28, 32)        0         \n",
      "_________________________________________________________________\n",
      "max_pooling2d_3 (MaxPooling2 (None, 14, 14, 32)        0         \n",
      "_________________________________________________________________\n",
      "conv2d_8 (Conv2D)            (None, 14, 14, 64)        18496     \n",
      "_________________________________________________________________\n",
      "activation_8 (Activation)    (None, 14, 14, 64)        0         \n",
      "_________________________________________________________________\n",
      "conv2d_9 (Conv2D)            (None, 14, 14, 64)        36928     \n",
      "_________________________________________________________________\n",
      "activation_9 (Activation)    (None, 14, 14, 64)        0         \n",
      "_________________________________________________________________\n",
      "max_pooling2d_4 (MaxPooling2 (None, 7, 7, 64)          0         \n",
      "_________________________________________________________________\n",
      "conv2d_10 (Conv2D)           (None, 7, 7, 128)         73856     \n",
      "_________________________________________________________________\n",
      "activation_10 (Activation)   (None, 7, 7, 128)         0         \n",
      "_________________________________________________________________\n",
      "conv2d_11 (Conv2D)           (None, 7, 7, 128)         147584    \n",
      "_________________________________________________________________\n",
      "activation_11 (Activation)   (None, 7, 7, 128)         0         \n",
      "_________________________________________________________________\n",
      "max_pooling2d_5 (MaxPooling2 (None, 3, 3, 128)         0         \n",
      "_________________________________________________________________\n",
      "flatten_1 (Flatten)          (None, 1152)              0         \n",
      "_________________________________________________________________\n",
      "dense_3 (Dense)              (None, 256)               295168    \n",
      "_________________________________________________________________\n",
      "dense_4 (Dense)              (None, 64)                16448     \n",
      "_________________________________________________________________\n",
      "dense_5 (Dense)              (None, 10)                650       \n",
      "=================================================================\n",
      "Total params: 598,698\n",
      "Trainable params: 598,698\n",
      "Non-trainable params: 0\n",
      "_________________________________________________________________\n",
      "None\n",
      "\n",
      "Epoch 1 / 10\n",
      "====>Training Batch 938 / 938\n",
      "========> loss : 0.1532 acc :  0.9517 \n",
      "\n",
      "====>Test Batch 157 / 157\n",
      "========> loss : 0.0378 acc :  0.9877 \n",
      "\n",
      "\n",
      "Epoch 2 / 10\n",
      "====>Training Batch 938 / 938\n",
      "========> loss : 0.0431 acc :  0.9872 \n",
      "\n",
      "====>Test Batch 157 / 157\n",
      "========> loss : 0.0381 acc :  0.9876 \n",
      "\n",
      "\n",
      "Epoch 3 / 10\n",
      "====>Training Batch 938 / 938\n",
      "========> loss : 0.0312 acc :  0.9908 \n",
      "\n",
      "====>Test Batch 157 / 157\n",
      "========> loss : 0.0321 acc :  0.9904 \n",
      "\n",
      "\n",
      "Epoch 4 / 10\n",
      "====>Training Batch 938 / 938\n",
      "========> loss : 0.0249 acc :  0.9925 \n",
      "\n",
      "====>Test Batch 157 / 157\n",
      "========> loss : 0.0199 acc :  0.9935 \n",
      "\n",
      "\n",
      "Epoch 5 / 10\n",
      "====>Training Batch 938 / 938\n",
      "========> loss : 0.0210 acc :  0.9938 \n",
      "\n",
      "====>Test Batch 157 / 157\n",
      "========> loss : 0.0245 acc :  0.9923 \n",
      "\n",
      "\n",
      "Epoch 6 / 10\n",
      "====>Training Batch 938 / 938\n",
      "========> loss : 0.0175 acc :  0.9948 \n",
      "\n",
      "====>Test Batch 157 / 157\n",
      "========> loss : 0.0246 acc :  0.9923 \n",
      "\n",
      "\n",
      "Epoch 7 / 10\n",
      "====>Training Batch 938 / 938\n",
      "========> loss : 0.0172 acc :  0.9942 \n",
      "\n",
      "====>Test Batch 157 / 157\n",
      "========> loss : 0.0331 acc :  0.9903 \n",
      "\n",
      "\n",
      "Epoch 8 / 10\n",
      "====>Training Batch 938 / 938\n",
      "========> loss : 0.0150 acc :  0.9953 \n",
      "\n",
      "====>Test Batch 157 / 157\n",
      "========> loss : 0.0288 acc :  0.9923 \n",
      "\n",
      "\n",
      "Epoch 9 / 10\n",
      "====>Training Batch 938 / 938\n",
      "========> loss : 0.0136 acc :  0.9958 \n",
      "\n",
      "====>Test Batch 157 / 157\n",
      "========> loss : 0.0244 acc :  0.9921 \n",
      "\n",
      "\n",
      "Epoch 10 / 10\n",
      "====>Training Batch 938 / 938\n",
      "========> loss : 0.0117 acc :  0.9963 \n",
      "\n",
      "====>Test Batch 157 / 157\n",
      "========> loss : 0.0314 acc :  0.9909 \n",
      "\n",
      "Saving the model,train log and test log in :  ..\\results\\mnist\\1_0_1_0_0 ============>\n"
     ]
    }
   ],
   "source": [
    "model_trained = experiments(dataset_path=None,dataset=\"mnist\",image_size=(32,32),Data_preprocessing=\"1\",Augmentation=\"0\",\n",
    "                            Shuffling=\"1\",Regularization=\"0\",Models=\"0\",classifier=True,\n",
    "                            augmentation_list = [random_rotate,random_zoom],augmentation_steps=10,\n",
    "                            split=True,split_ratio=[0.8,0.2],batch_size=64,epochs=10,shuffling_steps=1,\n",
    "                 save_train_test_data = False,dropout=0.5)\n",
    "model = model_trained()"
   ]
  },
  {
   "cell_type": "code",
   "execution_count": null,
   "metadata": {},
   "outputs": [],
   "source": []
  }
 ],
 "metadata": {
  "kernelspec": {
   "display_name": "Python 3",
   "language": "python",
   "name": "python3"
  },
  "language_info": {
   "codemirror_mode": {
    "name": "ipython",
    "version": 3
   },
   "file_extension": ".py",
   "mimetype": "text/x-python",
   "name": "python",
   "nbconvert_exporter": "python",
   "pygments_lexer": "ipython3",
   "version": "3.8.3"
  }
 },
 "nbformat": 4,
 "nbformat_minor": 4
}
